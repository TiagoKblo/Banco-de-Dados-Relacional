{
    "metadata": {
        "kernelspec": {
            "name": "SQL",
            "display_name": "SQL",
            "language": "sql"
        },
        "language_info": {
            "name": "sql",
            "version": ""
        }
    },
    "nbformat_minor": 2,
    "nbformat": 4,
    "cells": [
        {
            "cell_type": "code",
            "source": [
                "Select top 5 Name AS 'Nome', SafetyStockLevel AS 'Estoque'\r\n",
                "FROM Production.Product\r\n",
                ""
            ],
            "metadata": {
                "azdata_cell_guid": "09562d33-9745-4ea5-9ec3-c80e513ee24d",
                "language": "sql"
            },
            "outputs": [
                {
                    "output_type": "display_data",
                    "data": {
                        "text/html": "(5 rows affected)"
                    },
                    "metadata": {}
                },
                {
                    "output_type": "display_data",
                    "data": {
                        "text/html": "Total execution time: 00:00:00.030"
                    },
                    "metadata": {}
                },
                {
                    "output_type": "execute_result",
                    "execution_count": 35,
                    "data": {
                        "application/vnd.dataresource+json": {
                            "schema": {
                                "fields": [
                                    {
                                        "name": "Nome"
                                    },
                                    {
                                        "name": "Estoque"
                                    }
                                ]
                            },
                            "data": [
                                {
                                    "0": "Adjustable Race",
                                    "1": "1000"
                                },
                                {
                                    "0": "Bearing Ball",
                                    "1": "1000"
                                },
                                {
                                    "0": "BB Ball Bearing",
                                    "1": "800"
                                },
                                {
                                    "0": "Headset Ball Bearings",
                                    "1": "800"
                                },
                                {
                                    "0": "Blade",
                                    "1": "800"
                                }
                            ]
                        },
                        "text/html": "<table><tr><th>Nome</th><th>Estoque</th></tr><tr><td>Adjustable Race</td><td>1000</td></tr><tr><td>Bearing Ball</td><td>1000</td></tr><tr><td>BB Ball Bearing</td><td>800</td></tr><tr><td>Headset Ball Bearings</td><td>800</td></tr><tr><td>Blade</td><td>800</td></tr></table>"
                    },
                    "metadata": {}
                }
            ],
            "execution_count": 35
        },
        {
            "cell_type": "code",
            "source": [
                "Select top 5 *\r\n",
                "FROM Production.Product\r\n",
                "WHERE Name LIKE 'Blade' OR SafetyStockLevel = 800"
            ],
            "metadata": {
                "language": "sql",
                "azdata_cell_guid": "4d5772d9-dd5d-49c6-a331-1b5f04f1ecff"
            },
            "outputs": [
                {
                    "output_type": "display_data",
                    "data": {
                        "text/html": "(5 rows affected)"
                    },
                    "metadata": {}
                },
                {
                    "output_type": "display_data",
                    "data": {
                        "text/html": "Total execution time: 00:00:00.021"
                    },
                    "metadata": {}
                },
                {
                    "output_type": "execute_result",
                    "execution_count": 38,
                    "data": {
                        "application/vnd.dataresource+json": {
                            "schema": {
                                "fields": [
                                    {
                                        "name": "ProductID"
                                    },
                                    {
                                        "name": "Name"
                                    },
                                    {
                                        "name": "ProductNumber"
                                    },
                                    {
                                        "name": "MakeFlag"
                                    },
                                    {
                                        "name": "FinishedGoodsFlag"
                                    },
                                    {
                                        "name": "Color"
                                    },
                                    {
                                        "name": "SafetyStockLevel"
                                    },
                                    {
                                        "name": "ReorderPoint"
                                    },
                                    {
                                        "name": "StandardCost"
                                    },
                                    {
                                        "name": "ListPrice"
                                    },
                                    {
                                        "name": "Size"
                                    },
                                    {
                                        "name": "SizeUnitMeasureCode"
                                    },
                                    {
                                        "name": "WeightUnitMeasureCode"
                                    },
                                    {
                                        "name": "Weight"
                                    },
                                    {
                                        "name": "DaysToManufacture"
                                    },
                                    {
                                        "name": "ProductLine"
                                    },
                                    {
                                        "name": "Class"
                                    },
                                    {
                                        "name": "Style"
                                    },
                                    {
                                        "name": "ProductSubcategoryID"
                                    },
                                    {
                                        "name": "ProductModelID"
                                    },
                                    {
                                        "name": "SellStartDate"
                                    },
                                    {
                                        "name": "SellEndDate"
                                    },
                                    {
                                        "name": "DiscontinuedDate"
                                    },
                                    {
                                        "name": "rowguid"
                                    },
                                    {
                                        "name": "ModifiedDate"
                                    }
                                ]
                            },
                            "data": [
                                {
                                    "0": "3",
                                    "1": "BB Ball Bearing",
                                    "2": "BE-2349",
                                    "3": "1",
                                    "4": "0",
                                    "5": "NULL",
                                    "6": "800",
                                    "7": "600",
                                    "8": "0,00",
                                    "9": "0,00",
                                    "10": "NULL",
                                    "11": "NULL",
                                    "12": "NULL",
                                    "13": "NULL",
                                    "14": "1",
                                    "15": "NULL",
                                    "16": "NULL",
                                    "17": "NULL",
                                    "18": "NULL",
                                    "19": "NULL",
                                    "20": "2008-04-30 00:00:00.000",
                                    "21": "NULL",
                                    "22": "NULL",
                                    "23": "9c21aed2-5bfa-4f18-bcb8-f11638dc2e4e",
                                    "24": "2014-02-08 10:01:36.827"
                                },
                                {
                                    "0": "4",
                                    "1": "Headset Ball Bearings",
                                    "2": "BE-2908",
                                    "3": "0",
                                    "4": "0",
                                    "5": "NULL",
                                    "6": "800",
                                    "7": "600",
                                    "8": "0,00",
                                    "9": "0,00",
                                    "10": "NULL",
                                    "11": "NULL",
                                    "12": "NULL",
                                    "13": "NULL",
                                    "14": "0",
                                    "15": "NULL",
                                    "16": "NULL",
                                    "17": "NULL",
                                    "18": "NULL",
                                    "19": "NULL",
                                    "20": "2008-04-30 00:00:00.000",
                                    "21": "NULL",
                                    "22": "NULL",
                                    "23": "ecfed6cb-51ff-49b5-b06c-7d8ac834db8b",
                                    "24": "2014-02-08 10:01:36.827"
                                },
                                {
                                    "0": "316",
                                    "1": "Blade",
                                    "2": "BL-2036",
                                    "3": "1",
                                    "4": "0",
                                    "5": "NULL",
                                    "6": "800",
                                    "7": "600",
                                    "8": "0,00",
                                    "9": "0,00",
                                    "10": "NULL",
                                    "11": "NULL",
                                    "12": "NULL",
                                    "13": "NULL",
                                    "14": "1",
                                    "15": "NULL",
                                    "16": "NULL",
                                    "17": "NULL",
                                    "18": "NULL",
                                    "19": "NULL",
                                    "20": "2008-04-30 00:00:00.000",
                                    "21": "NULL",
                                    "22": "NULL",
                                    "23": "e73e9750-603b-4131-89f5-3dd15ed5ff80",
                                    "24": "2014-02-08 10:01:36.827"
                                },
                                {
                                    "0": "327",
                                    "1": "Down Tube",
                                    "2": "DT-2377",
                                    "3": "1",
                                    "4": "0",
                                    "5": "NULL",
                                    "6": "800",
                                    "7": "600",
                                    "8": "0,00",
                                    "9": "0,00",
                                    "10": "NULL",
                                    "11": "NULL",
                                    "12": "NULL",
                                    "13": "NULL",
                                    "14": "1",
                                    "15": "NULL",
                                    "16": "NULL",
                                    "17": "NULL",
                                    "18": "NULL",
                                    "19": "NULL",
                                    "20": "2008-04-30 00:00:00.000",
                                    "21": "NULL",
                                    "22": "NULL",
                                    "23": "1dad47dd-e259-42b8-b8b4-15a0b7d21b2f",
                                    "24": "2014-02-08 10:01:36.827"
                                },
                                {
                                    "0": "331",
                                    "1": "Fork End",
                                    "2": "FE-3760",
                                    "3": "1",
                                    "4": "0",
                                    "5": "NULL",
                                    "6": "800",
                                    "7": "600",
                                    "8": "0,00",
                                    "9": "0,00",
                                    "10": "NULL",
                                    "11": "NULL",
                                    "12": "NULL",
                                    "13": "NULL",
                                    "14": "1",
                                    "15": "NULL",
                                    "16": "NULL",
                                    "17": "NULL",
                                    "18": "NULL",
                                    "19": "NULL",
                                    "20": "2008-04-30 00:00:00.000",
                                    "21": "NULL",
                                    "22": "NULL",
                                    "23": "c91d602e-da52-43d2-bd7e-eb110a9392b9",
                                    "24": "2014-02-08 10:01:36.827"
                                }
                            ]
                        },
                        "text/html": "<table><tr><th>ProductID</th><th>Name</th><th>ProductNumber</th><th>MakeFlag</th><th>FinishedGoodsFlag</th><th>Color</th><th>SafetyStockLevel</th><th>ReorderPoint</th><th>StandardCost</th><th>ListPrice</th><th>Size</th><th>SizeUnitMeasureCode</th><th>WeightUnitMeasureCode</th><th>Weight</th><th>DaysToManufacture</th><th>ProductLine</th><th>Class</th><th>Style</th><th>ProductSubcategoryID</th><th>ProductModelID</th><th>SellStartDate</th><th>SellEndDate</th><th>DiscontinuedDate</th><th>rowguid</th><th>ModifiedDate</th></tr><tr><td>3</td><td>BB Ball Bearing</td><td>BE-2349</td><td>1</td><td>0</td><td>NULL</td><td>800</td><td>600</td><td>0,00</td><td>0,00</td><td>NULL</td><td>NULL</td><td>NULL</td><td>NULL</td><td>1</td><td>NULL</td><td>NULL</td><td>NULL</td><td>NULL</td><td>NULL</td><td>2008-04-30 00:00:00.000</td><td>NULL</td><td>NULL</td><td>9c21aed2-5bfa-4f18-bcb8-f11638dc2e4e</td><td>2014-02-08 10:01:36.827</td></tr><tr><td>4</td><td>Headset Ball Bearings</td><td>BE-2908</td><td>0</td><td>0</td><td>NULL</td><td>800</td><td>600</td><td>0,00</td><td>0,00</td><td>NULL</td><td>NULL</td><td>NULL</td><td>NULL</td><td>0</td><td>NULL</td><td>NULL</td><td>NULL</td><td>NULL</td><td>NULL</td><td>2008-04-30 00:00:00.000</td><td>NULL</td><td>NULL</td><td>ecfed6cb-51ff-49b5-b06c-7d8ac834db8b</td><td>2014-02-08 10:01:36.827</td></tr><tr><td>316</td><td>Blade</td><td>BL-2036</td><td>1</td><td>0</td><td>NULL</td><td>800</td><td>600</td><td>0,00</td><td>0,00</td><td>NULL</td><td>NULL</td><td>NULL</td><td>NULL</td><td>1</td><td>NULL</td><td>NULL</td><td>NULL</td><td>NULL</td><td>NULL</td><td>2008-04-30 00:00:00.000</td><td>NULL</td><td>NULL</td><td>e73e9750-603b-4131-89f5-3dd15ed5ff80</td><td>2014-02-08 10:01:36.827</td></tr><tr><td>327</td><td>Down Tube</td><td>DT-2377</td><td>1</td><td>0</td><td>NULL</td><td>800</td><td>600</td><td>0,00</td><td>0,00</td><td>NULL</td><td>NULL</td><td>NULL</td><td>NULL</td><td>1</td><td>NULL</td><td>NULL</td><td>NULL</td><td>NULL</td><td>NULL</td><td>2008-04-30 00:00:00.000</td><td>NULL</td><td>NULL</td><td>1dad47dd-e259-42b8-b8b4-15a0b7d21b2f</td><td>2014-02-08 10:01:36.827</td></tr><tr><td>331</td><td>Fork End</td><td>FE-3760</td><td>1</td><td>0</td><td>NULL</td><td>800</td><td>600</td><td>0,00</td><td>0,00</td><td>NULL</td><td>NULL</td><td>NULL</td><td>NULL</td><td>1</td><td>NULL</td><td>NULL</td><td>NULL</td><td>NULL</td><td>NULL</td><td>2008-04-30 00:00:00.000</td><td>NULL</td><td>NULL</td><td>c91d602e-da52-43d2-bd7e-eb110a9392b9</td><td>2014-02-08 10:01:36.827</td></tr></table>"
                    },
                    "metadata": {}
                }
            ],
            "execution_count": 38
        },
        {
            "cell_type": "code",
            "source": [
                "Select top 5 *\r\n",
                "FROM Production.Product\r\n",
                "WHERE SellStartDate >= 2008-04-30 AND SafetyStockLevel = 800"
            ],
            "metadata": {
                "language": "sql",
                "azdata_cell_guid": "ec2da1e7-b812-4bc4-a5d3-d022ca005803"
            },
            "outputs": [
                {
                    "output_type": "display_data",
                    "data": {
                        "text/html": "(5 rows affected)"
                    },
                    "metadata": {}
                },
                {
                    "output_type": "display_data",
                    "data": {
                        "text/html": "Total execution time: 00:00:00.024"
                    },
                    "metadata": {}
                },
                {
                    "output_type": "execute_result",
                    "execution_count": 43,
                    "data": {
                        "application/vnd.dataresource+json": {
                            "schema": {
                                "fields": [
                                    {
                                        "name": "ProductID"
                                    },
                                    {
                                        "name": "Name"
                                    },
                                    {
                                        "name": "ProductNumber"
                                    },
                                    {
                                        "name": "MakeFlag"
                                    },
                                    {
                                        "name": "FinishedGoodsFlag"
                                    },
                                    {
                                        "name": "Color"
                                    },
                                    {
                                        "name": "SafetyStockLevel"
                                    },
                                    {
                                        "name": "ReorderPoint"
                                    },
                                    {
                                        "name": "StandardCost"
                                    },
                                    {
                                        "name": "ListPrice"
                                    },
                                    {
                                        "name": "Size"
                                    },
                                    {
                                        "name": "SizeUnitMeasureCode"
                                    },
                                    {
                                        "name": "WeightUnitMeasureCode"
                                    },
                                    {
                                        "name": "Weight"
                                    },
                                    {
                                        "name": "DaysToManufacture"
                                    },
                                    {
                                        "name": "ProductLine"
                                    },
                                    {
                                        "name": "Class"
                                    },
                                    {
                                        "name": "Style"
                                    },
                                    {
                                        "name": "ProductSubcategoryID"
                                    },
                                    {
                                        "name": "ProductModelID"
                                    },
                                    {
                                        "name": "SellStartDate"
                                    },
                                    {
                                        "name": "SellEndDate"
                                    },
                                    {
                                        "name": "DiscontinuedDate"
                                    },
                                    {
                                        "name": "rowguid"
                                    },
                                    {
                                        "name": "ModifiedDate"
                                    }
                                ]
                            },
                            "data": [
                                {
                                    "0": "3",
                                    "1": "BB Ball Bearing",
                                    "2": "BE-2349",
                                    "3": "1",
                                    "4": "0",
                                    "5": "NULL",
                                    "6": "800",
                                    "7": "600",
                                    "8": "0,00",
                                    "9": "0,00",
                                    "10": "NULL",
                                    "11": "NULL",
                                    "12": "NULL",
                                    "13": "NULL",
                                    "14": "1",
                                    "15": "NULL",
                                    "16": "NULL",
                                    "17": "NULL",
                                    "18": "NULL",
                                    "19": "NULL",
                                    "20": "2008-04-30 00:00:00.000",
                                    "21": "NULL",
                                    "22": "NULL",
                                    "23": "9c21aed2-5bfa-4f18-bcb8-f11638dc2e4e",
                                    "24": "2014-02-08 10:01:36.827"
                                },
                                {
                                    "0": "4",
                                    "1": "Headset Ball Bearings",
                                    "2": "BE-2908",
                                    "3": "0",
                                    "4": "0",
                                    "5": "NULL",
                                    "6": "800",
                                    "7": "600",
                                    "8": "0,00",
                                    "9": "0,00",
                                    "10": "NULL",
                                    "11": "NULL",
                                    "12": "NULL",
                                    "13": "NULL",
                                    "14": "0",
                                    "15": "NULL",
                                    "16": "NULL",
                                    "17": "NULL",
                                    "18": "NULL",
                                    "19": "NULL",
                                    "20": "2008-04-30 00:00:00.000",
                                    "21": "NULL",
                                    "22": "NULL",
                                    "23": "ecfed6cb-51ff-49b5-b06c-7d8ac834db8b",
                                    "24": "2014-02-08 10:01:36.827"
                                },
                                {
                                    "0": "316",
                                    "1": "Blade",
                                    "2": "BL-2036",
                                    "3": "1",
                                    "4": "0",
                                    "5": "NULL",
                                    "6": "800",
                                    "7": "600",
                                    "8": "0,00",
                                    "9": "0,00",
                                    "10": "NULL",
                                    "11": "NULL",
                                    "12": "NULL",
                                    "13": "NULL",
                                    "14": "1",
                                    "15": "NULL",
                                    "16": "NULL",
                                    "17": "NULL",
                                    "18": "NULL",
                                    "19": "NULL",
                                    "20": "2008-04-30 00:00:00.000",
                                    "21": "NULL",
                                    "22": "NULL",
                                    "23": "e73e9750-603b-4131-89f5-3dd15ed5ff80",
                                    "24": "2014-02-08 10:01:36.827"
                                },
                                {
                                    "0": "327",
                                    "1": "Down Tube",
                                    "2": "DT-2377",
                                    "3": "1",
                                    "4": "0",
                                    "5": "NULL",
                                    "6": "800",
                                    "7": "600",
                                    "8": "0,00",
                                    "9": "0,00",
                                    "10": "NULL",
                                    "11": "NULL",
                                    "12": "NULL",
                                    "13": "NULL",
                                    "14": "1",
                                    "15": "NULL",
                                    "16": "NULL",
                                    "17": "NULL",
                                    "18": "NULL",
                                    "19": "NULL",
                                    "20": "2008-04-30 00:00:00.000",
                                    "21": "NULL",
                                    "22": "NULL",
                                    "23": "1dad47dd-e259-42b8-b8b4-15a0b7d21b2f",
                                    "24": "2014-02-08 10:01:36.827"
                                },
                                {
                                    "0": "331",
                                    "1": "Fork End",
                                    "2": "FE-3760",
                                    "3": "1",
                                    "4": "0",
                                    "5": "NULL",
                                    "6": "800",
                                    "7": "600",
                                    "8": "0,00",
                                    "9": "0,00",
                                    "10": "NULL",
                                    "11": "NULL",
                                    "12": "NULL",
                                    "13": "NULL",
                                    "14": "1",
                                    "15": "NULL",
                                    "16": "NULL",
                                    "17": "NULL",
                                    "18": "NULL",
                                    "19": "NULL",
                                    "20": "2008-04-30 00:00:00.000",
                                    "21": "NULL",
                                    "22": "NULL",
                                    "23": "c91d602e-da52-43d2-bd7e-eb110a9392b9",
                                    "24": "2014-02-08 10:01:36.827"
                                }
                            ]
                        },
                        "text/html": "<table><tr><th>ProductID</th><th>Name</th><th>ProductNumber</th><th>MakeFlag</th><th>FinishedGoodsFlag</th><th>Color</th><th>SafetyStockLevel</th><th>ReorderPoint</th><th>StandardCost</th><th>ListPrice</th><th>Size</th><th>SizeUnitMeasureCode</th><th>WeightUnitMeasureCode</th><th>Weight</th><th>DaysToManufacture</th><th>ProductLine</th><th>Class</th><th>Style</th><th>ProductSubcategoryID</th><th>ProductModelID</th><th>SellStartDate</th><th>SellEndDate</th><th>DiscontinuedDate</th><th>rowguid</th><th>ModifiedDate</th></tr><tr><td>3</td><td>BB Ball Bearing</td><td>BE-2349</td><td>1</td><td>0</td><td>NULL</td><td>800</td><td>600</td><td>0,00</td><td>0,00</td><td>NULL</td><td>NULL</td><td>NULL</td><td>NULL</td><td>1</td><td>NULL</td><td>NULL</td><td>NULL</td><td>NULL</td><td>NULL</td><td>2008-04-30 00:00:00.000</td><td>NULL</td><td>NULL</td><td>9c21aed2-5bfa-4f18-bcb8-f11638dc2e4e</td><td>2014-02-08 10:01:36.827</td></tr><tr><td>4</td><td>Headset Ball Bearings</td><td>BE-2908</td><td>0</td><td>0</td><td>NULL</td><td>800</td><td>600</td><td>0,00</td><td>0,00</td><td>NULL</td><td>NULL</td><td>NULL</td><td>NULL</td><td>0</td><td>NULL</td><td>NULL</td><td>NULL</td><td>NULL</td><td>NULL</td><td>2008-04-30 00:00:00.000</td><td>NULL</td><td>NULL</td><td>ecfed6cb-51ff-49b5-b06c-7d8ac834db8b</td><td>2014-02-08 10:01:36.827</td></tr><tr><td>316</td><td>Blade</td><td>BL-2036</td><td>1</td><td>0</td><td>NULL</td><td>800</td><td>600</td><td>0,00</td><td>0,00</td><td>NULL</td><td>NULL</td><td>NULL</td><td>NULL</td><td>1</td><td>NULL</td><td>NULL</td><td>NULL</td><td>NULL</td><td>NULL</td><td>2008-04-30 00:00:00.000</td><td>NULL</td><td>NULL</td><td>e73e9750-603b-4131-89f5-3dd15ed5ff80</td><td>2014-02-08 10:01:36.827</td></tr><tr><td>327</td><td>Down Tube</td><td>DT-2377</td><td>1</td><td>0</td><td>NULL</td><td>800</td><td>600</td><td>0,00</td><td>0,00</td><td>NULL</td><td>NULL</td><td>NULL</td><td>NULL</td><td>1</td><td>NULL</td><td>NULL</td><td>NULL</td><td>NULL</td><td>NULL</td><td>2008-04-30 00:00:00.000</td><td>NULL</td><td>NULL</td><td>1dad47dd-e259-42b8-b8b4-15a0b7d21b2f</td><td>2014-02-08 10:01:36.827</td></tr><tr><td>331</td><td>Fork End</td><td>FE-3760</td><td>1</td><td>0</td><td>NULL</td><td>800</td><td>600</td><td>0,00</td><td>0,00</td><td>NULL</td><td>NULL</td><td>NULL</td><td>NULL</td><td>1</td><td>NULL</td><td>NULL</td><td>NULL</td><td>NULL</td><td>NULL</td><td>2008-04-30 00:00:00.000</td><td>NULL</td><td>NULL</td><td>c91d602e-da52-43d2-bd7e-eb110a9392b9</td><td>2014-02-08 10:01:36.827</td></tr></table>"
                    },
                    "metadata": {}
                }
            ],
            "execution_count": 43
        },
        {
            "cell_type": "code",
            "source": [
                "SELECT COUNT(*)\r\n",
                "FROM Production.Product"
            ],
            "metadata": {
                "language": "sql",
                "azdata_cell_guid": "8c86a00d-0c2b-42ca-9080-f08a803663d0"
            },
            "outputs": [
                {
                    "output_type": "display_data",
                    "data": {
                        "text/html": "(1 row affected)"
                    },
                    "metadata": {}
                },
                {
                    "output_type": "display_data",
                    "data": {
                        "text/html": "Total execution time: 00:00:00.017"
                    },
                    "metadata": {}
                },
                {
                    "output_type": "execute_result",
                    "execution_count": 47,
                    "data": {
                        "application/vnd.dataresource+json": {
                            "schema": {
                                "fields": [
                                    {
                                        "name": "(No column name)"
                                    }
                                ]
                            },
                            "data": [
                                {
                                    "0": "504"
                                }
                            ]
                        },
                        "text/html": "<table><tr><th>(No column name)</th></tr><tr><td>504</td></tr></table>"
                    },
                    "metadata": {}
                }
            ],
            "execution_count": 47
        },
        {
            "cell_type": "code",
            "source": [
                "use AdventureWorks2019\r\n",
                "Select ProductAssemblyID, COUNT(componentID)\r\n",
                "From Production.BillOfMaterials\r\n",
                "ORDER BY ProductAssemblyID"
            ],
            "metadata": {
                "language": "sql",
                "azdata_cell_guid": "1e36e8d5-74d4-4e6a-a260-026b3b82042e"
            },
            "outputs": [
                {
                    "output_type": "error",
                    "ename": "",
                    "evalue": "Msg 8120, Level 16, State 1, Line 2\r\nA coluna 'Production.BillOfMaterials.ProductAssemblyID' é inválida na lista de seleção porque não está contida em uma função de agregação nem na cláusula GROUP BY.",
                    "traceback": []
                },
                {
                    "output_type": "display_data",
                    "data": {
                        "text/html": "Total execution time: 00:00:00.012"
                    },
                    "metadata": {}
                }
            ],
            "execution_count": 8
        },
        {
            "cell_type": "code",
            "source": [
                "SELECT COUNT(Distinct SafetyStockLevel)\r\n",
                "FROM Production.Product"
            ],
            "metadata": {
                "language": "sql",
                "azdata_cell_guid": "9a91e2db-13f5-4499-83cc-53c5070cdf40"
            },
            "outputs": [
                {
                    "output_type": "display_data",
                    "data": {
                        "text/html": "(1 row affected)"
                    },
                    "metadata": {}
                },
                {
                    "output_type": "display_data",
                    "data": {
                        "text/html": "Total execution time: 00:00:00.025"
                    },
                    "metadata": {}
                },
                {
                    "output_type": "execute_result",
                    "execution_count": 48,
                    "data": {
                        "application/vnd.dataresource+json": {
                            "schema": {
                                "fields": [
                                    {
                                        "name": "(No column name)"
                                    }
                                ]
                            },
                            "data": [
                                {
                                    "0": "6"
                                }
                            ]
                        },
                        "text/html": "<table><tr><th>(No column name)</th></tr><tr><td>6</td></tr></table>"
                    },
                    "metadata": {}
                }
            ],
            "execution_count": 48
        },
        {
            "cell_type": "code",
            "source": [
                "SELECT MAX(SafetyStockLevel) AS 'Valor Máximo de Estoque', \r\n",
                "       SUM(SafetyStockLevel) AS \"Total do estoque\",\r\n",
                "       MIN(SafetyStockLevel) AS 'Menor Estoque Disponível',\r\n",
                "       AVG(SafetyStockLevel) AS 'Média do Estoque por peça'\r\n",
                "FROM Production.Product"
            ],
            "metadata": {
                "language": "sql",
                "azdata_cell_guid": "483a9487-b3cc-4823-a78f-81697ba47aee"
            },
            "outputs": [
                {
                    "output_type": "display_data",
                    "data": {
                        "text/html": "(1 row affected)"
                    },
                    "metadata": {}
                },
                {
                    "output_type": "display_data",
                    "data": {
                        "text/html": "Total execution time: 00:00:00.022"
                    },
                    "metadata": {}
                },
                {
                    "output_type": "execute_result",
                    "execution_count": 54,
                    "data": {
                        "application/vnd.dataresource+json": {
                            "schema": {
                                "fields": [
                                    {
                                        "name": "Valor Máximo de Estoque"
                                    },
                                    {
                                        "name": "Total do estoque"
                                    },
                                    {
                                        "name": "Menor Estoque Disponível"
                                    },
                                    {
                                        "name": "Média do Estoque por peça"
                                    }
                                ]
                            },
                            "data": [
                                {
                                    "0": "1000",
                                    "1": "269716",
                                    "2": "4",
                                    "3": "535"
                                }
                            ]
                        },
                        "text/html": "<table><tr><th>Valor Máximo de Estoque</th><th>Total do estoque</th><th>Menor Estoque Disponível</th><th>Média do Estoque por peça</th></tr><tr><td>1000</td><td>269716</td><td>4</td><td>535</td></tr></table>"
                    },
                    "metadata": {}
                }
            ],
            "execution_count": 54
        },
        {
            "cell_type": "code",
            "source": [
                "USE AdventureWorks2019\r\n",
                "SELECT Title, COUNT(*) AS 'QTD. de Pessoas'\r\n",
                "FROM Person.Person\r\n",
                "GROUP BY Title\r\n",
                ""
            ],
            "metadata": {
                "language": "sql",
                "azdata_cell_guid": "447df5b4-b073-43df-a97a-75f5585cd61d",
                "tags": []
            },
            "outputs": [
                {
                    "output_type": "display_data",
                    "data": {
                        "text/html": "(7 rows affected)"
                    },
                    "metadata": {}
                },
                {
                    "output_type": "display_data",
                    "data": {
                        "text/html": "Total execution time: 00:00:00.015"
                    },
                    "metadata": {}
                },
                {
                    "output_type": "execute_result",
                    "execution_count": 18,
                    "data": {
                        "application/vnd.dataresource+json": {
                            "schema": {
                                "fields": [
                                    {
                                        "name": "Title"
                                    },
                                    {
                                        "name": "QTD. de Pessoas"
                                    }
                                ]
                            },
                            "data": [
                                {
                                    "0": "Sr.",
                                    "1": "11"
                                },
                                {
                                    "0": "Mrs.",
                                    "1": "2"
                                },
                                {
                                    "0": "NULL",
                                    "1": "18963"
                                },
                                {
                                    "0": "Sra.",
                                    "1": "3"
                                },
                                {
                                    "0": "Ms.",
                                    "1": "415"
                                },
                                {
                                    "0": "Ms",
                                    "1": "1"
                                },
                                {
                                    "0": "Mr.",
                                    "1": "577"
                                }
                            ]
                        },
                        "text/html": "<table><tr><th>Title</th><th>QTD. de Pessoas</th></tr><tr><td>Sr.</td><td>11</td></tr><tr><td>Mrs.</td><td>2</td></tr><tr><td>NULL</td><td>18963</td></tr><tr><td>Sra.</td><td>3</td></tr><tr><td>Ms.</td><td>415</td></tr><tr><td>Ms</td><td>1</td></tr><tr><td>Mr.</td><td>577</td></tr></table>"
                    },
                    "metadata": {}
                }
            ],
            "execution_count": 18
        },
        {
            "cell_type": "code",
            "source": [
                "SELECT top 10 Color, COUNT(*) AS 'QTD de Produtos de cada Cor'\r\n",
                "FROM Production.Product\r\n",
                "GROUP BY Color"
            ],
            "metadata": {
                "language": "sql",
                "azdata_cell_guid": "9049b19e-d79c-412b-b519-4957a58828b1"
            },
            "outputs": [
                {
                    "output_type": "display_data",
                    "data": {
                        "text/html": "(10 rows affected)"
                    },
                    "metadata": {}
                },
                {
                    "output_type": "display_data",
                    "data": {
                        "text/html": "Total execution time: 00:00:00.007"
                    },
                    "metadata": {}
                },
                {
                    "output_type": "execute_result",
                    "execution_count": 24,
                    "data": {
                        "application/vnd.dataresource+json": {
                            "schema": {
                                "fields": [
                                    {
                                        "name": "Color"
                                    },
                                    {
                                        "name": "QTD de Produtos de cada Cor"
                                    }
                                ]
                            },
                            "data": [
                                {
                                    "0": "NULL",
                                    "1": "248"
                                },
                                {
                                    "0": "Black",
                                    "1": "93"
                                },
                                {
                                    "0": "Blue",
                                    "1": "26"
                                },
                                {
                                    "0": "Grey",
                                    "1": "1"
                                },
                                {
                                    "0": "Multi",
                                    "1": "8"
                                },
                                {
                                    "0": "Red",
                                    "1": "38"
                                },
                                {
                                    "0": "Silver",
                                    "1": "43"
                                },
                                {
                                    "0": "Silver/Black",
                                    "1": "7"
                                },
                                {
                                    "0": "White",
                                    "1": "4"
                                },
                                {
                                    "0": "Yellow",
                                    "1": "36"
                                }
                            ]
                        },
                        "text/html": "<table><tr><th>Color</th><th>QTD de Produtos de cada Cor</th></tr><tr><td>NULL</td><td>248</td></tr><tr><td>Black</td><td>93</td></tr><tr><td>Blue</td><td>26</td></tr><tr><td>Grey</td><td>1</td></tr><tr><td>Multi</td><td>8</td></tr><tr><td>Red</td><td>38</td></tr><tr><td>Silver</td><td>43</td></tr><tr><td>Silver/Black</td><td>7</td></tr><tr><td>White</td><td>4</td></tr><tr><td>Yellow</td><td>36</td></tr></table>"
                    },
                    "metadata": {}
                }
            ],
            "execution_count": 24
        },
        {
            "cell_type": "code",
            "source": [
                "SELECT BusinessEntityID AS 'Numero do  Vendedor', SUM(SalesYTD) AS 'Valor Total das Vendas',\r\n",
                "       SUM(SalesQuota) AS 'QTD de Produtos Vendidos'\r\n",
                "FROM Sales.SalesPerson\r\n",
                "GROUP BY BusinessEntityID"
            ],
            "metadata": {
                "language": "sql",
                "azdata_cell_guid": "b19ce3c0-9398-42fb-a99b-07f11fc21d34",
                "tags": []
            },
            "outputs": [
                {
                    "output_type": "display_data",
                    "data": {
                        "text/html": "(17 rows affected)"
                    },
                    "metadata": {}
                },
                {
                    "output_type": "display_data",
                    "data": {
                        "text/html": "Total execution time: 00:00:00.003"
                    },
                    "metadata": {}
                },
                {
                    "output_type": "execute_result",
                    "execution_count": 32,
                    "data": {
                        "application/vnd.dataresource+json": {
                            "schema": {
                                "fields": [
                                    {
                                        "name": "Numero do  Vendedor"
                                    },
                                    {
                                        "name": "Valor Total das Vendas"
                                    },
                                    {
                                        "name": "QTD de Produtos Vendidos"
                                    }
                                ]
                            },
                            "data": [
                                {
                                    "0": "274",
                                    "1": "559697,5639",
                                    "2": "NULL"
                                },
                                {
                                    "0": "275",
                                    "1": "3763178,1787",
                                    "2": "300000,00"
                                },
                                {
                                    "0": "276",
                                    "1": "4251368,5497",
                                    "2": "250000,00"
                                },
                                {
                                    "0": "277",
                                    "1": "3189418,3662",
                                    "2": "250000,00"
                                },
                                {
                                    "0": "278",
                                    "1": "1453719,4653",
                                    "2": "250000,00"
                                },
                                {
                                    "0": "279",
                                    "1": "2315185,611",
                                    "2": "300000,00"
                                },
                                {
                                    "0": "280",
                                    "1": "1352577,1325",
                                    "2": "250000,00"
                                },
                                {
                                    "0": "281",
                                    "1": "2458535,6169",
                                    "2": "250000,00"
                                },
                                {
                                    "0": "282",
                                    "1": "2604540,7172",
                                    "2": "250000,00"
                                },
                                {
                                    "0": "283",
                                    "1": "1573012,9383",
                                    "2": "250000,00"
                                },
                                {
                                    "0": "284",
                                    "1": "1576562,1966",
                                    "2": "300000,00"
                                },
                                {
                                    "0": "285",
                                    "1": "172524,4512",
                                    "2": "NULL"
                                },
                                {
                                    "0": "286",
                                    "1": "1421810,9242",
                                    "2": "250000,00"
                                },
                                {
                                    "0": "287",
                                    "1": "519905,932",
                                    "2": "NULL"
                                },
                                {
                                    "0": "288",
                                    "1": "1827066,7118",
                                    "2": "250000,00"
                                },
                                {
                                    "0": "289",
                                    "1": "4116871,2277",
                                    "2": "250000,00"
                                },
                                {
                                    "0": "290",
                                    "1": "3121616,3202",
                                    "2": "250000,00"
                                }
                            ]
                        },
                        "text/html": "<table><tr><th>Numero do  Vendedor</th><th>Valor Total das Vendas</th><th>QTD de Produtos Vendidos</th></tr><tr><td>274</td><td>559697,5639</td><td>NULL</td></tr><tr><td>275</td><td>3763178,1787</td><td>300000,00</td></tr><tr><td>276</td><td>4251368,5497</td><td>250000,00</td></tr><tr><td>277</td><td>3189418,3662</td><td>250000,00</td></tr><tr><td>278</td><td>1453719,4653</td><td>250000,00</td></tr><tr><td>279</td><td>2315185,611</td><td>300000,00</td></tr><tr><td>280</td><td>1352577,1325</td><td>250000,00</td></tr><tr><td>281</td><td>2458535,6169</td><td>250000,00</td></tr><tr><td>282</td><td>2604540,7172</td><td>250000,00</td></tr><tr><td>283</td><td>1573012,9383</td><td>250000,00</td></tr><tr><td>284</td><td>1576562,1966</td><td>300000,00</td></tr><tr><td>285</td><td>172524,4512</td><td>NULL</td></tr><tr><td>286</td><td>1421810,9242</td><td>250000,00</td></tr><tr><td>287</td><td>519905,932</td><td>NULL</td></tr><tr><td>288</td><td>1827066,7118</td><td>250000,00</td></tr><tr><td>289</td><td>4116871,2277</td><td>250000,00</td></tr><tr><td>290</td><td>3121616,3202</td><td>250000,00</td></tr></table>"
                    },
                    "metadata": {}
                }
            ],
            "execution_count": 32
        },
        {
            "cell_type": "code",
            "source": [
                ""
            ],
            "metadata": {
                "azdata_cell_guid": "b89a5860-b2dc-416b-8684-703bc4be9d09",
                "language": "sql"
            },
            "outputs": [],
            "execution_count": null
        },
        {
            "cell_type": "code",
            "source": [
                "select top 5 *\r\n",
                "FROM Purchasing.PurchaseOrderDetail"
            ],
            "metadata": {
                "language": "sql",
                "azdata_cell_guid": "fbfdc92c-fc2a-400f-8f7f-de1b3a9be2de"
            },
            "outputs": [
                {
                    "output_type": "display_data",
                    "data": {
                        "text/html": "(5 rows affected)"
                    },
                    "metadata": {}
                },
                {
                    "output_type": "display_data",
                    "data": {
                        "text/html": "Total execution time: 00:00:00.010"
                    },
                    "metadata": {}
                },
                {
                    "output_type": "execute_result",
                    "execution_count": 34,
                    "data": {
                        "application/vnd.dataresource+json": {
                            "schema": {
                                "fields": [
                                    {
                                        "name": "PurchaseOrderID"
                                    },
                                    {
                                        "name": "PurchaseOrderDetailID"
                                    },
                                    {
                                        "name": "DueDate"
                                    },
                                    {
                                        "name": "OrderQty"
                                    },
                                    {
                                        "name": "ProductID"
                                    },
                                    {
                                        "name": "UnitPrice"
                                    },
                                    {
                                        "name": "LineTotal"
                                    },
                                    {
                                        "name": "ReceivedQty"
                                    },
                                    {
                                        "name": "RejectedQty"
                                    },
                                    {
                                        "name": "StockedQty"
                                    },
                                    {
                                        "name": "ModifiedDate"
                                    }
                                ]
                            },
                            "data": [
                                {
                                    "0": "1",
                                    "1": "1",
                                    "2": "2011-04-30 00:00:00.000",
                                    "3": "4",
                                    "4": "1",
                                    "5": "50,26",
                                    "6": "201,04",
                                    "7": "3.00",
                                    "8": "0.00",
                                    "9": "3.00",
                                    "10": "2011-04-23 00:00:00.000"
                                },
                                {
                                    "0": "2",
                                    "1": "2",
                                    "2": "2011-04-30 00:00:00.000",
                                    "3": "3",
                                    "4": "359",
                                    "5": "45,12",
                                    "6": "135,36",
                                    "7": "3.00",
                                    "8": "0.00",
                                    "9": "3.00",
                                    "10": "2011-04-23 00:00:00.000"
                                },
                                {
                                    "0": "2",
                                    "1": "3",
                                    "2": "2011-04-30 00:00:00.000",
                                    "3": "3",
                                    "4": "360",
                                    "5": "45,5805",
                                    "6": "136,7415",
                                    "7": "3.00",
                                    "8": "0.00",
                                    "9": "3.00",
                                    "10": "2011-04-23 00:00:00.000"
                                },
                                {
                                    "0": "3",
                                    "1": "4",
                                    "2": "2011-04-30 00:00:00.000",
                                    "3": "550",
                                    "4": "530",
                                    "5": "16,086",
                                    "6": "8847,30",
                                    "7": "550.00",
                                    "8": "0.00",
                                    "9": "550.00",
                                    "10": "2011-04-23 00:00:00.000"
                                },
                                {
                                    "0": "4",
                                    "1": "5",
                                    "2": "2011-04-30 00:00:00.000",
                                    "3": "3",
                                    "4": "4",
                                    "5": "57,0255",
                                    "6": "171,0765",
                                    "7": "2.00",
                                    "8": "1.00",
                                    "9": "1.00",
                                    "10": "2011-04-23 00:00:00.000"
                                }
                            ]
                        },
                        "text/html": "<table><tr><th>PurchaseOrderID</th><th>PurchaseOrderDetailID</th><th>DueDate</th><th>OrderQty</th><th>ProductID</th><th>UnitPrice</th><th>LineTotal</th><th>ReceivedQty</th><th>RejectedQty</th><th>StockedQty</th><th>ModifiedDate</th></tr><tr><td>1</td><td>1</td><td>2011-04-30 00:00:00.000</td><td>4</td><td>1</td><td>50,26</td><td>201,04</td><td>3.00</td><td>0.00</td><td>3.00</td><td>2011-04-23 00:00:00.000</td></tr><tr><td>2</td><td>2</td><td>2011-04-30 00:00:00.000</td><td>3</td><td>359</td><td>45,12</td><td>135,36</td><td>3.00</td><td>0.00</td><td>3.00</td><td>2011-04-23 00:00:00.000</td></tr><tr><td>2</td><td>3</td><td>2011-04-30 00:00:00.000</td><td>3</td><td>360</td><td>45,5805</td><td>136,7415</td><td>3.00</td><td>0.00</td><td>3.00</td><td>2011-04-23 00:00:00.000</td></tr><tr><td>3</td><td>4</td><td>2011-04-30 00:00:00.000</td><td>550</td><td>530</td><td>16,086</td><td>8847,30</td><td>550.00</td><td>0.00</td><td>550.00</td><td>2011-04-23 00:00:00.000</td></tr><tr><td>4</td><td>5</td><td>2011-04-30 00:00:00.000</td><td>3</td><td>4</td><td>57,0255</td><td>171,0765</td><td>2.00</td><td>1.00</td><td>1.00</td><td>2011-04-23 00:00:00.000</td></tr></table>"
                    },
                    "metadata": {}
                }
            ],
            "execution_count": 34
        },
        {
            "cell_type": "code",
            "source": [
                "WITH cte_qtd AS (\r\n",
                "  SELECT AVG(StockedQty) AS media_quantidade,\r\n",
                "         SUM(StockedQty) AS total_quantidade,\r\n",
                "         MAX(StockedQty) AS maior_quantidade\r\n",
                "  FROM Purchasing.PurchaseOrderDetail\r\n",
                "), cte_tempo AS (\r\n",
                "  SELECT AVG(LineTotal) AS media_dias_producao\r\n",
                "  FROM Purchasing.PurchaseOrderDetail\r\n",
                ")\r\n",
                "SELECT cte_qtd.media_quantidade,\r\n",
                "       cte_qtd.total_quantidade,\r\n",
                "       cte_qtd.maior_quantidade,\r\n",
                "       cte_tempo.media_dias_producao\r\n",
                "FROM cte_qtd, cte_tempo\r\n",
                ""
            ],
            "metadata": {
                "language": "sql",
                "azdata_cell_guid": "bddfe0fc-3101-4126-ad4a-d6fd318ce147"
            },
            "outputs": [
                {
                    "output_type": "display_data",
                    "data": {
                        "text/html": "(1 row affected)"
                    },
                    "metadata": {}
                },
                {
                    "output_type": "display_data",
                    "data": {
                        "text/html": "Total execution time: 00:00:00.021"
                    },
                    "metadata": {}
                },
                {
                    "output_type": "execute_result",
                    "execution_count": 36,
                    "data": {
                        "application/vnd.dataresource+json": {
                            "schema": {
                                "fields": [
                                    {
                                        "name": "media_quantidade"
                                    },
                                    {
                                        "name": "total_quantidade"
                                    },
                                    {
                                        "name": "maior_quantidade"
                                    },
                                    {
                                        "name": "media_dias_producao"
                                    }
                                ]
                            },
                            "data": [
                                {
                                    "0": "254.900960",
                                    "1": "2254599.00",
                                    "2": "8000.00",
                                    "3": "7212,2097"
                                }
                            ]
                        },
                        "text/html": "<table><tr><th>media_quantidade</th><th>total_quantidade</th><th>maior_quantidade</th><th>media_dias_producao</th></tr><tr><td>254.900960</td><td>2254599.00</td><td>8000.00</td><td>7212,2097</td></tr></table>"
                    },
                    "metadata": {}
                }
            ],
            "execution_count": 36
        }
    ]
}