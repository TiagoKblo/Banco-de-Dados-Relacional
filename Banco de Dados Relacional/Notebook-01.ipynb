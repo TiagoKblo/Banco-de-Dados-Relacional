{
    "metadata": {
        "kernelspec": {
            "name": "SQL",
            "display_name": "SQL",
            "language": "sql"
        },
        "language_info": {
            "name": "sql",
            "version": ""
        }
    },
    "nbformat_minor": 2,
    "nbformat": 4,
    "cells": [
        {
            "cell_type": "code",
            "source": [
                "CREATE TABLE regiao (\r\n",
                "  Cod_regiao INT IDENTITY PRIMARY KEY,\r\n",
                "  Nome_regiao VARCHAR(15)\r\n",
                ");"
            ],
            "metadata": {
                "azdata_cell_guid": "acfb1d00-414b-4b71-88b4-1ec5654d1c43",
                "language": "sql"
            },
            "outputs": [
                {
                    "output_type": "display_data",
                    "data": {
                        "text/html": "Commands completed successfully."
                    },
                    "metadata": {}
                },
                {
                    "output_type": "display_data",
                    "data": {
                        "text/html": "Total execution time: 00:00:00.021"
                    },
                    "metadata": {}
                }
            ],
            "execution_count": 1
        },
        {
            "cell_type": "code",
            "source": [
                "CREATE TABLE departamento (\r\n",
                "  Cod_departamento INT IDENTITY PRIMARY KEY,\r\n",
                "  Nome_departamento VARCHAR(20),\r\n",
                "  Cod_regiao INT FOREIGN KEY REFERENCES regiao(Cod_regiao)\r\n",
                ");"
            ],
            "metadata": {
                "language": "sql",
                "azdata_cell_guid": "e4001997-727d-43b4-99f3-3e1552cc4c01"
            },
            "outputs": [
                {
                    "output_type": "error",
                    "evalue": "Msg 2714, Level 16, State 6, Line 1\r\nJá existe um objeto com nome 'departamento' no banco de dados.",
                    "ename": "",
                    "traceback": []
                },
                {
                    "output_type": "display_data",
                    "data": {
                        "text/html": "Total execution time: 00:00:00.016"
                    },
                    "metadata": {}
                }
            ],
            "execution_count": 3
        }
    ]
}