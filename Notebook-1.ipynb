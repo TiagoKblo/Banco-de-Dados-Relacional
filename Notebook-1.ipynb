{
    "metadata": {
        "kernelspec": {
            "name": "SQL",
            "display_name": "SQL",
            "language": "sql"
        },
        "language_info": {
            "name": "sql",
            "version": ""
        }
    },
    "nbformat_minor": 2,
    "nbformat": 4,
    "cells": [
        {
            "cell_type": "code",
            "source": [
                "Create DATABASE SEGURADORA"
            ],
            "metadata": {
                "azdata_cell_guid": "564ad006-2f39-4024-ba05-3c87cee08287",
                "language": "sql"
            },
            "outputs": [
                {
                    "output_type": "display_data",
                    "data": {
                        "text/html": "Commands completed successfully."
                    },
                    "metadata": {}
                },
                {
                    "output_type": "display_data",
                    "data": {
                        "text/html": "Total execution time: 00:00:00.266"
                    },
                    "metadata": {}
                }
            ],
            "execution_count": 1
        },
        {
            "cell_type": "code",
            "source": [
                "use SEGURADORA"
            ],
            "metadata": {
                "language": "sql",
                "azdata_cell_guid": "e885186c-8dea-4370-ad0c-1463af653faa"
            },
            "outputs": [
                {
                    "output_type": "display_data",
                    "data": {
                        "text/html": "Commands completed successfully."
                    },
                    "metadata": {}
                },
                {
                    "output_type": "display_data",
                    "data": {
                        "text/html": "Total execution time: 00:00:00"
                    },
                    "metadata": {}
                }
            ],
            "execution_count": 2
        },
        {
            "cell_type": "code",
            "source": [
                "CREATE TABLE Clientes\r\n",
                "    (\r\n",
                "    CodCliente INT PRIMARY KEY,\r\n",
                "    Nome VARCHAR(46) NOT NULL,\r\n",
                "    CPF VARCHAR(46) NOT NULL UNIQUE,\r\n",
                "    Sexo VARCHAR(20),\r\n",
                "    Estado VARCHAR(45),\r\n",
                "    Cidade VARCHAR(45) DEFAULT 'Itapira',\r\n",
                "    Bairro VARCHAR(45),\r\n",
                "    Numero VARCHAR(45),\r\n",
                "    Rua VARCHAR(45),\r\n",
                "    TelefoneFixo VARCHAR(45),\r\n",
                "    TelefoneCelular VARCHAR(45) NOT NULL UNIQUE,\r\n",
                "    );"
            ],
            "metadata": {
                "language": "sql",
                "azdata_cell_guid": "74d6aba4-2ae8-43e0-8723-63ab930141ca"
            },
            "outputs": [
                {
                    "output_type": "display_data",
                    "data": {
                        "text/html": "Commands completed successfully."
                    },
                    "metadata": {}
                },
                {
                    "output_type": "display_data",
                    "data": {
                        "text/html": "Total execution time: 00:00:00.022"
                    },
                    "metadata": {}
                }
            ],
            "execution_count": 3
        },
        {
            "cell_type": "code",
            "source": [
                "CREATE TABLE Carros\r\n",
                "    (\r\n",
                "    CodCarro INT PRIMARY KEY,\r\n",
                "    Placa VARCHAR(45),\r\n",
                "    Marca VARCHAR(45),\r\n",
                "    Modelo VARCHAR(45),\r\n",
                "    Ano VARCHAR(45),\r\n",
                "    Chassi VARCHAR(45),\r\n",
                "    Cor VARCHAR(45),\r\n",
                "    );"
            ],
            "metadata": {
                "language": "sql",
                "azdata_cell_guid": "48d4751c-915b-4ba9-ac27-0fd6fb6e3429",
                "tags": []
            },
            "outputs": [
                {
                    "output_type": "display_data",
                    "data": {
                        "text/html": "Commands completed successfully."
                    },
                    "metadata": {}
                },
                {
                    "output_type": "display_data",
                    "data": {
                        "text/html": "Total execution time: 00:00:00.004"
                    },
                    "metadata": {}
                }
            ],
            "execution_count": 4
        },
        {
            "cell_type": "code",
            "source": [
                "CREATE TABLE Sinistro \r\n",
                "(\r\n",
                "    CodSinistro INT,\r\n",
                "    HoraSinistro INT,\r\n",
                "    DataSinistro DATE,\r\n",
                "    LocalSinistro VARCHAR(45),\r\n",
                "    Condutor VARCHAR(45),\r\n",
                "    Carro_CodCarro INT,\r\n",
                "    CONSTRAINT pk_sinistro PRIMARY KEY (CodSinistro, Carro_CodCarro),\r\n",
                "    FOREIGN KEY (Carro_CodCarro) REFERENCES Carros(CodCarro)\r\n",
                ");"
            ],
            "metadata": {
                "language": "sql",
                "azdata_cell_guid": "b2d20c39-acd9-41d3-bbfe-6a4c38825dca"
            },
            "outputs": [
                {
                    "output_type": "display_data",
                    "data": {
                        "text/html": "Commands completed successfully."
                    },
                    "metadata": {}
                },
                {
                    "output_type": "display_data",
                    "data": {
                        "text/html": "Total execution time: 00:00:00.013"
                    },
                    "metadata": {}
                }
            ],
            "execution_count": 7
        },
        {
            "cell_type": "code",
            "source": [
                "CREATE TABLE Apolices\r\n",
                "(\r\n",
                "    CodApolice INT,\r\n",
                "    ValorCobertura DECIMAL,\r\n",
                "    ValorFranquia DECIMAL,\r\n",
                "    DataInicioVigencia DATE NOT NULL,\r\n",
                "    DataFimVigencia DATE,\r\n",
                "    Clientes_CodCliente INT,\r\n",
                "    Carros_CodCarro INT,\r\n",
                "    CONSTRAINT chk_dataInicioVigencia CHECK (DataInicioVigencia >= GETDATE()),\r\n",
                "    FOREIGN KEY (Clientes_CodCliente) REFERENCES Clientes(CodCliente),\r\n",
                "    FOREIGN KEY (Carros_CodCarro) REFERENCES Carros(CodCarro)\r\n",
                ");"
            ],
            "metadata": {
                "language": "sql",
                "azdata_cell_guid": "0e1166f1-ece4-43ae-9ef5-47dbc356d762",
                "tags": [
                    "hide_input"
                ]
            },
            "outputs": [
                {
                    "output_type": "display_data",
                    "data": {
                        "text/html": "Commands completed successfully."
                    },
                    "metadata": {}
                },
                {
                    "output_type": "display_data",
                    "data": {
                        "text/html": "Total execution time: 00:00:00.012"
                    },
                    "metadata": {}
                }
            ],
            "execution_count": 10
        }
    ]
}